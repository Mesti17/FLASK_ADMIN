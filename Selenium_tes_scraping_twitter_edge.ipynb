{
 "cells": [
  {
   "cell_type": "code",
   "execution_count": 1,
   "metadata": {},
   "outputs": [],
   "source": [
    "import re\n",
    "import pandas as pd\n",
    "import time\n",
    "import csv\n",
    "from getpass import getpass\n",
    "from time import sleep\n",
    "from selenium import webdriver\n",
    "from selenium.webdriver.common.keys import Keys\n",
    "from selenium.common.exceptions import NoSuchElementException\n",
    "from selenium.webdriver.edge.options import Options\n",
    "from selenium.webdriver.common.by import By"
   ]
  },
  {
   "cell_type": "code",
   "execution_count": 17,
   "metadata": {},
   "outputs": [],
   "source": [
    "# datas = []\n",
    "# all_username = []\n",
    "# all_tweet = []\n",
    "# # all_tgl = []\n",
    "# # all_isi = []\n",
    "# # berita = []\n",
    "\n",
    "# jumlah_tweet = 1\n",
    "# count = 0"
   ]
  },
  {
   "cell_type": "code",
   "execution_count": 2,
   "metadata": {},
   "outputs": [],
   "source": [
    "edgeOption = webdriver.EdgeOptions()\n",
    "edgeOption.use_chromium = True\n",
    "driver = webdriver.Edge(options=edgeOption)\n",
    "driver.get(\"https://twitter.com/login\")"
   ]
  },
  {
   "cell_type": "code",
   "execution_count": 3,
   "metadata": {},
   "outputs": [],
   "source": [
    "# enter email\n",
    "email = driver.find_element(By.TAG_NAME, \"input\")\n",
    "email.send_keys(\"sentimen2024@gmail.com\")\n",
    "# email.send_keys(\"mesty017@gmail.com\")\n",
    "# email.send_keys(\"mfadilk22@gmail.com\")\n",
    "\n",
    "time.sleep(2)\n",
    "\n",
    "# press on the \"next\" button\n",
    "all_buttons = driver.find_elements(By.XPATH, \"//div[@role='button']\")\n",
    "all_buttons[-2].click()\n",
    "\n",
    "time.sleep(2)"
   ]
  },
  {
   "cell_type": "code",
   "execution_count": 4,
   "metadata": {},
   "outputs": [],
   "source": [
    "heading = driver.find_element(By.XPATH, \"//h1[@role='heading']\").text\n",
    "\n",
    "if \"Enter your phone number or username\" in heading:\n",
    "    \n",
    "    #mengisi username\n",
    "    username = driver.find_element(By.TAG_NAME, \"input\")\n",
    "    username.send_keys(\"sentimen2024\")\n",
    "\n",
    "    time.sleep(2)\n",
    "\n",
    "    #click button    \n",
    "    all_buttons = driver.find_elements(By.XPATH, \"//div[@role='button']\")\n",
    "    all_buttons[-1].click()\n",
    "\n",
    "    time.sleep(5)\n",
    "\n",
    "    #Mengisi password\n",
    "    password = driver.find_element(By.XPATH, \"//input[@type='password']\")\n",
    "    password.send_keys(\"Olofmeister\")\n",
    "\n",
    "    time.sleep(2)\n",
    "\n",
    "    all_buttons = driver.find_elements(By.XPATH, \"//div[@role='button']\")\n",
    "    all_buttons[-1].click()\n",
    "else:\n",
    "    \n",
    "    #isi password dan kemudian login\n",
    "    password = driver.find_element(By.XPATH, \"//input[@type='password']\")\n",
    "    password.send_keys(\"Olofmeister\")\n",
    "    # password.send_keys(\"Mesti1957301014\")\n",
    "    # password.send_keys(\"@Homest4y\")\n",
    "\n",
    "    time.sleep(2)\n",
    "\n",
    "    # press on the login button\n",
    "    all_buttons = driver.find_elements(By.XPATH, \"//div[@role='button']\")\n",
    "    all_buttons[-1].click()    "
   ]
  },
  {
   "cell_type": "code",
   "execution_count": 29,
   "metadata": {},
   "outputs": [],
   "source": [
    "# TES 3.0\n",
    "\n",
    "keyword = \"prabowo subianto\"\n",
    "driver.get(\"https://twitter.com/search?q=\" + keyword + f\"%20lang%3Aid%20-filter%3Alinks&src=typed_query\")\n",
    "\n",
    "time.sleep(5)\n",
    "\n",
    "tweet_set = set()\n",
    "target_tweet = 300\n",
    "\n",
    "while len(tweet_set) < target_tweet:\n",
    "    tweets = driver.find_elements(By.CSS_SELECTOR, '[data-testid=\"tweet\"]')\n",
    "    last_tweet_count = len(tweet_set)\n",
    "\n",
    "    for tweet in tweets:\n",
    "        try:\n",
    "            iklan = tweet.find_element(By.XPATH, \".//span[contains(text(), 'Promoted')]\").text\n",
    "            continue  # Skip the promoted tweet\n",
    "        except NoSuchElementException:\n",
    "            pass\n",
    "\n",
    "        try:\n",
    "            tag_text = tweet.find_element(By.CSS_SELECTOR, 'div[data-testid=\"User-Name\"]').text\n",
    "            nama, username, dot, waktu = tag_text.split('\\n')\n",
    "        except (NoSuchElementException, ValueError):\n",
    "            tag_text = \"\"  # Set an empty value if user name is not present\n",
    "            nama = \"\"\n",
    "            username = \"\"\n",
    "            dot = \"\"\n",
    "            waktu = \"\"\n",
    "\n",
    "        tweet_text = tweet.find_element(By.CSS_SELECTOR, 'div[data-testid=\"tweetText\"]').text\n",
    "        tweet_set.add((nama, username, tweet_text))\n",
    "\n",
    "        if len(tweet_set) >= target_tweet:\n",
    "            break\n",
    "\n",
    "    if last_tweet_count == len(tweet_set):\n",
    "        # No new unique tweets were loaded, break out of the loop\n",
    "        break\n",
    "\n",
    "    driver.execute_script(\"window.scrollTo(0, document.body.scrollHeight);\")\n",
    "    time.sleep(3)\n",
    "\n",
    "# Print the collected tweets\n",
    "df = pd.DataFrame(tweet_set, columns=[\"Username\", \"Nama\", \"Tweet\"])\n",
    "df.to_csv(\"Scraping_prabowo.csv\", index=False, encoding=\"utf-8\")"
   ]
  },
  {
   "cell_type": "code",
   "execution_count": 30,
   "metadata": {},
   "outputs": [
    {
     "name": "stdout",
     "output_type": "stream",
     "text": [
      "<class 'pandas.core.frame.DataFrame'>\n",
      "RangeIndex: 180 entries, 0 to 179\n",
      "Data columns (total 3 columns):\n",
      " #   Column    Non-Null Count  Dtype \n",
      "---  ------    --------------  ----- \n",
      " 0   Username  180 non-null    object\n",
      " 1   Nama      180 non-null    object\n",
      " 2   Tweet     180 non-null    object\n",
      "dtypes: object(3)\n",
      "memory usage: 4.3+ KB\n"
     ]
    }
   ],
   "source": [
    "df.info()"
   ]
  }
 ],
 "metadata": {
  "kernelspec": {
   "display_name": "Python 3",
   "language": "python",
   "name": "python3"
  },
  "language_info": {
   "codemirror_mode": {
    "name": "ipython",
    "version": 3
   },
   "file_extension": ".py",
   "mimetype": "text/x-python",
   "name": "python",
   "nbconvert_exporter": "python",
   "pygments_lexer": "ipython3",
   "version": "3.9.13"
  },
  "orig_nbformat": 4
 },
 "nbformat": 4,
 "nbformat_minor": 2
}
